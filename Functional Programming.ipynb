{
 "metadata": {
  "name": "",
  "signature": "sha256:e5d66f37f87777dccc50b4ff74dfbb536202685494fa9368b827eb107d782782"
 },
 "nbformat": 3,
 "nbformat_minor": 0,
 "worksheets": [
  {
   "cells": [
    {
     "cell_type": "code",
     "collapsed": false,
     "input": [
      "# Naive implementation ... with a for loop\n",
      "\n",
      "for i in range(1,21):\n",
      "    if not i % (5*3): print(\"fizzbuzz\")\n",
      "    elif not i % 5: print(\"fizz\")\n",
      "    elif not i % 3: print(\"buzz\")\n",
      "    else: print(i)"
     ],
     "language": "python",
     "metadata": {},
     "outputs": [
      {
       "output_type": "stream",
       "stream": "stdout",
       "text": [
        "1\n",
        "2\n",
        "buzz\n",
        "4\n",
        "fizz\n",
        "buzz\n",
        "7\n",
        "8\n",
        "buzz\n",
        "fizz\n",
        "11\n",
        "buzz\n",
        "13\n",
        "14\n",
        "fizzbuzz\n",
        "16\n",
        "17\n",
        "buzz\n",
        "19\n",
        "fizz\n"
       ]
      }
     ],
     "prompt_number": 1
    },
    {
     "cell_type": "markdown",
     "metadata": {},
     "source": [
      "# Higher Order functions, Closures\n",
      "\n",
      "We can create a primitie function that returns the products of the function called with some fixed parameters. "
     ]
    },
    {
     "cell_type": "code",
     "collapsed": false,
     "input": [
      "def fizzbuzzfilter(test,num, word):\n",
      "    if (type(test) != int) or (test%num):\n",
      "        return test\n",
      "    else:\n",
      "        return word\n",
      "        \n",
      "\n",
      "def fizzbuzzfilter3(test):\n",
      "    return fizzbuzzfilter(test, 3, \"fizz\")\n",
      "\n",
      "def fizzbuzzfilter5(test):\n",
      "    return fizzbuzzfilter(test, 5, \"buzz\")\n",
      "\n",
      "def fizzbuzzfilter15(test):\n",
      "    return fizzbuzzfilter(test, 15, \"fizzbuzz\")\n"
     ],
     "language": "python",
     "metadata": {},
     "outputs": [],
     "prompt_number": 2
    },
    {
     "cell_type": "code",
     "collapsed": false,
     "input": [
      "fizzbuzzfilter3(3), fizzbuzzfilter3(5), fizzbuzzfilter3(None)"
     ],
     "language": "python",
     "metadata": {},
     "outputs": [
      {
       "metadata": {},
       "output_type": "pyout",
       "prompt_number": 3,
       "text": [
        "('fizz', 5, None)"
       ]
      }
     ],
     "prompt_number": 3
    },
    {
     "cell_type": "code",
     "collapsed": false,
     "input": [
      "fizzbuzzfilter5(fizzbuzzfilter3(fizzbuzzfilter15(3)))"
     ],
     "language": "python",
     "metadata": {},
     "outputs": [
      {
       "metadata": {},
       "output_type": "pyout",
       "prompt_number": 4,
       "text": [
        "'fizz'"
       ]
      }
     ],
     "prompt_number": 4
    },
    {
     "cell_type": "code",
     "collapsed": false,
     "input": [
      "list(map(fizzbuzzfilter3, map(fizzbuzzfilter15, range(1,21))))"
     ],
     "language": "python",
     "metadata": {},
     "outputs": [
      {
       "metadata": {},
       "output_type": "pyout",
       "prompt_number": 5,
       "text": [
        "[1,\n",
        " 2,\n",
        " 'fizz',\n",
        " 4,\n",
        " 5,\n",
        " 'fizz',\n",
        " 7,\n",
        " 8,\n",
        " 'fizz',\n",
        " 10,\n",
        " 11,\n",
        " 'fizz',\n",
        " 13,\n",
        " 14,\n",
        " 'fizzbuzz',\n",
        " 16,\n",
        " 17,\n",
        " 'fizz',\n",
        " 19,\n",
        " 20]"
       ]
      }
     ],
     "prompt_number": 5
    },
    {
     "cell_type": "markdown",
     "metadata": {},
     "source": [
      "This approach works, but it does repeat in a way the DRY principle. The STL offers a nice wrapper called partial, for creating exactly that."
     ]
    },
    {
     "cell_type": "code",
     "collapsed": false,
     "input": [
      "list(map(fizzbuzzfilter5, map(fizzbuzzfilter3, map(fizzbuzzfilter15, range(1,21)))))"
     ],
     "language": "python",
     "metadata": {},
     "outputs": [
      {
       "metadata": {},
       "output_type": "pyout",
       "prompt_number": 6,
       "text": [
        "[1,\n",
        " 2,\n",
        " 'fizz',\n",
        " 4,\n",
        " 'buzz',\n",
        " 'fizz',\n",
        " 7,\n",
        " 8,\n",
        " 'fizz',\n",
        " 'buzz',\n",
        " 11,\n",
        " 'fizz',\n",
        " 13,\n",
        " 14,\n",
        " 'fizzbuzz',\n",
        " 16,\n",
        " 17,\n",
        " 'fizz',\n",
        " 19,\n",
        " 'buzz']"
       ]
      }
     ],
     "prompt_number": 6
    },
    {
     "cell_type": "code",
     "collapsed": false,
     "input": [
      "from functools import partial\n",
      "filter3 = partial(fizzbuzzfilter, num=3, word='fizz')\n",
      "filter5 = partial(fizzbuzzfilter, num=5, word='buzz')\n",
      "filter15 = partial(fizzbuzzfilter, num=15, word='fizzbuzz')\n"
     ],
     "language": "python",
     "metadata": {},
     "outputs": [],
     "prompt_number": 7
    },
    {
     "cell_type": "code",
     "collapsed": false,
     "input": [
      "print(list(map(filter5, map(filter3, map(filter15, range(1,21))))))"
     ],
     "language": "python",
     "metadata": {},
     "outputs": [
      {
       "output_type": "stream",
       "stream": "stdout",
       "text": [
        "[1, 2, 'fizz', 4, 'buzz', 'fizz', 7, 8, 'fizz', 'buzz', 11, 'fizz', 13, 14, 'fizzbuzz', 16, 17, 'fizz', 19, 'buzz']\n"
       ]
      }
     ],
     "prompt_number": 8
    },
    {
     "cell_type": "markdown",
     "metadata": {},
     "source": [
      "OK, it works, and it's more conviniet to write, but it's still not very readable. "
     ]
    },
    {
     "cell_type": "code",
     "collapsed": false,
     "input": [
      "\n",
      "def map_many(iterable, function, *other):\n",
      "    \"\"\"map many functions to a single iterable\"\"\"\n",
      "    if other:\n",
      "        return map_many(map(function, iterable), *other)\n",
      "    return map(function, iterable)\n",
      "\n",
      "\n",
      "list(map_many(range(1,21), filter15, filter3, filter5))"
     ],
     "language": "python",
     "metadata": {},
     "outputs": [
      {
       "metadata": {},
       "output_type": "pyout",
       "prompt_number": 9,
       "text": [
        "[1,\n",
        " 2,\n",
        " 'fizz',\n",
        " 4,\n",
        " 'buzz',\n",
        " 'fizz',\n",
        " 7,\n",
        " 8,\n",
        " 'fizz',\n",
        " 'buzz',\n",
        " 11,\n",
        " 'fizz',\n",
        " 13,\n",
        " 14,\n",
        " 'fizzbuzz',\n",
        " 16,\n",
        " 17,\n",
        " 'fizz',\n",
        " 19,\n",
        " 'buzz']"
       ]
      }
     ],
     "prompt_number": 9
    },
    {
     "cell_type": "markdown",
     "metadata": {},
     "source": [
      "# A slightly better approach, using yield instead of returns. \n",
      "As a bonus, list are not traversed 3 times. "
     ]
    },
    {
     "cell_type": "code",
     "collapsed": false,
     "input": [
      "from functools import partial\n",
      "\n",
      "filter3 = partial(fizzbuzzfilter, num=3, word='fizz')\n",
      "filter5 = partial(fizzbuzzfilter, num=5, word='buzz')\n",
      "filter15 = partial(fizzbuzzfilter, num=15, word='fizzbuzz')\n",
      "\n",
      "def fizzbuzzfiltery(numbers, num, word):\n",
      "    for test in numbers:\n",
      "        if (type(test) == str) or (test%num):\n",
      "            yield test\n",
      "        else:\n",
      "            yield word\n",
      "            \n",
      "filter3y = partial(fizzbuzzfiltery, num=3, word='fizz')\n",
      "filter5y = partial(fizzbuzzfiltery, num=5, word='buzz')\n",
      "filter15y = partial(fizzbuzzfiltery, num=15, word='fizzbuzz')\n",
      "\n",
      "nums = range(1,21)\n",
      "\n",
      "# Using yields we only traverse the list 1 time\n",
      "        \n",
      "list(filter5y(filter3y(filter15y(nums))))\n",
      "#%time list(filter5y(filter3y(filter15y(nums))))\n"
     ],
     "language": "python",
     "metadata": {},
     "outputs": [
      {
       "metadata": {},
       "output_type": "pyout",
       "prompt_number": 10,
       "text": [
        "[1,\n",
        " 2,\n",
        " 'fizz',\n",
        " 4,\n",
        " 'buzz',\n",
        " 'fizz',\n",
        " 7,\n",
        " 8,\n",
        " 'fizz',\n",
        " 'buzz',\n",
        " 11,\n",
        " 'fizz',\n",
        " 13,\n",
        " 14,\n",
        " 'fizzbuzz',\n",
        " 16,\n",
        " 17,\n",
        " 'fizz',\n",
        " 19,\n",
        " 'buzz']"
       ]
      }
     ],
     "prompt_number": 10
    },
    {
     "cell_type": "code",
     "collapsed": false,
     "input": [
      "# using lambdas only:\n",
      "fizzbuzz = lambda x: \"fizzbuzz\" if isinstance(x, int) and not x%15 and not isinstance(x, str) else x\n",
      "fizz = lambda x: \"fizz\" if isinstance(x, int) and not x % 3 and not isinstance(x, str) else x\n",
      "buzz = lambda x: \"buzz\" if isinstance(x, int) and not x % 5 and not isinstance(x, str) else x\n",
      "list(map(buzz, map(fizz, (map(fizzbuzz, range(1,21))))))"
     ],
     "language": "python",
     "metadata": {},
     "outputs": [
      {
       "metadata": {},
       "output_type": "pyout",
       "prompt_number": 11,
       "text": [
        "[1,\n",
        " 2,\n",
        " 'fizz',\n",
        " 4,\n",
        " 'buzz',\n",
        " 'fizz',\n",
        " 7,\n",
        " 8,\n",
        " 'fizz',\n",
        " 'buzz',\n",
        " 11,\n",
        " 'fizz',\n",
        " 13,\n",
        " 14,\n",
        " 'fizzbuzz',\n",
        " 16,\n",
        " 17,\n",
        " 'fizz',\n",
        " 19,\n",
        " 'buzz']"
       ]
      }
     ],
     "prompt_number": 11
    },
    {
     "cell_type": "markdown",
     "metadata": {},
     "source": [
      "# Applying multiple functions to a single list, currying ...\n",
      "\n",
      "Applying multiple lamdba functions which return a value. Traverse the list of arguments N times where N is the number of functions."
     ]
    },
    {
     "cell_type": "code",
     "collapsed": false,
     "input": [
      "def mapf(f_list, argument):\n",
      "    \"\"\"map multiple functions to a single argument without recursion\"\"\" \n",
      "    r = argument\n",
      "    for f in f_list:\n",
      "        r = map(f, r)\n",
      "    return r\n",
      "\n",
      "list(mapf([fizzbuzz, fizz, buzz], nums))"
     ],
     "language": "python",
     "metadata": {},
     "outputs": [
      {
       "metadata": {},
       "output_type": "pyout",
       "prompt_number": 12,
       "text": [
        "[1,\n",
        " 2,\n",
        " 'fizz',\n",
        " 4,\n",
        " 'buzz',\n",
        " 'fizz',\n",
        " 7,\n",
        " 8,\n",
        " 'fizz',\n",
        " 'buzz',\n",
        " 11,\n",
        " 'fizz',\n",
        " 13,\n",
        " 14,\n",
        " 'fizzbuzz',\n",
        " 16,\n",
        " 17,\n",
        " 'fizz',\n",
        " 19,\n",
        " 'buzz']"
       ]
      }
     ],
     "prompt_number": 12
    },
    {
     "cell_type": "code",
     "collapsed": false,
     "input": [
      "def fizzbuzzfiltery(test, num, word):\n",
      "    if (type(test) != int) or (test%num):\n",
      "        yield test\n",
      "    else:\n",
      "        yield word\n",
      "\n",
      "filter3y = partial(fizzbuzzfiltery, num=3, word='fizz')\n",
      "filter5y = partial(fizzbuzzfiltery, num=5, word='buzz')\n",
      "filter15y = partial(fizzbuzzfiltery, num=15, word='fizzbuzz')\n",
      "\n",
      "filter5y(4), next(filter5y(5))"
     ],
     "language": "python",
     "metadata": {},
     "outputs": [
      {
       "metadata": {},
       "output_type": "pyout",
       "prompt_number": 13,
       "text": [
        "(<generator object fizzbuzzfiltery at 0x7f22d01125c8>, 'buzz')"
       ]
      }
     ],
     "prompt_number": 13
    },
    {
     "cell_type": "code",
     "collapsed": false,
     "input": [],
     "language": "python",
     "metadata": {},
     "outputs": [],
     "prompt_number": 13
    },
    {
     "cell_type": "markdown",
     "metadata": {},
     "source": [
      "# Using yields we only traverse the list again __only__ once. Because we have created lazy functions"
     ]
    },
    {
     "cell_type": "code",
     "collapsed": false,
     "input": [
      "from itertools import chain\n",
      "def mapf(f_list, argument):\n",
      "    \"\"\"apply a list of functions to a single argument, without recursion\"\"\"\n",
      "    r = argument\n",
      "    for f in f_list:\n",
      "        #  r = chain(*(map(f, r)))  # same as below, but with uglier syntax\n",
      "        r = chain.from_iterable(map(f, r))\n",
      "        \n",
      "    return r\n",
      "nums = range(1,21)\n",
      "list(mapf([filter15y, filter3y, filter5y], nums))"
     ],
     "language": "python",
     "metadata": {},
     "outputs": [
      {
       "metadata": {},
       "output_type": "pyout",
       "prompt_number": 14,
       "text": [
        "[1,\n",
        " 2,\n",
        " 'fizz',\n",
        " 4,\n",
        " 'buzz',\n",
        " 'fizz',\n",
        " 7,\n",
        " 8,\n",
        " 'fizz',\n",
        " 'buzz',\n",
        " 11,\n",
        " 'fizz',\n",
        " 13,\n",
        " 14,\n",
        " 'fizzbuzz',\n",
        " 16,\n",
        " 17,\n",
        " 'fizz',\n",
        " 19,\n",
        " 'buzz']"
       ]
      }
     ],
     "prompt_number": 14
    },
    {
     "cell_type": "code",
     "collapsed": false,
     "input": [
      "nums = range(1, 2*10**8+1)\n"
     ],
     "language": "python",
     "metadata": {},
     "outputs": [],
     "prompt_number": 20
    },
    {
     "cell_type": "code",
     "collapsed": false,
     "input": [
      "def lazy():\n",
      "    \"\"\"no recursion, with yield\"\"\"\n",
      "    return list(mapf([filter15y, filter3y, filter5y], nums))\n",
      "\n",
      "%timeit lazy\n"
     ],
     "language": "python",
     "metadata": {},
     "outputs": [
      {
       "output_type": "stream",
       "stream": "stdout",
       "text": [
        "10000000 loops, best of 3: 31.7 ns per loop\n"
       ]
      }
     ],
     "prompt_number": 25
    },
    {
     "cell_type": "code",
     "collapsed": false,
     "input": [
      "%timeit -n 10000 list(filter5y(filter3y(filter15y(nums))))"
     ],
     "language": "python",
     "metadata": {},
     "outputs": [
      {
       "output_type": "stream",
       "stream": "stdout",
       "text": [
        "10000 loops, best of 3: 2.38 \u00b5s per loop\n"
       ]
      }
     ],
     "prompt_number": 22
    },
    {
     "cell_type": "code",
     "collapsed": false,
     "input": [
      "def lumberjack():\n",
      "    \"\"\"calling map f, no recursion, with lambdas\"\"\"\n",
      "    return list(mapf([fizzbuzz, fizz, buzz], nums))\n",
      "\n",
      "%timeit lumberjack\n"
     ],
     "language": "python",
     "metadata": {},
     "outputs": [
      {
       "output_type": "stream",
       "stream": "stdout",
       "text": [
        "10000000 loops, best of 3: 22 ns per loop\n"
       ]
      }
     ],
     "prompt_number": 23
    },
    {
     "cell_type": "code",
     "collapsed": false,
     "input": [
      "def no_y():\n",
      "    \"\"\"no yield, recursion\"\"\"\n",
      "    return list(map_many(nums, filter15, filter3, filter5))\n",
      "\n",
      "%timeit no_y\n"
     ],
     "language": "python",
     "metadata": {},
     "outputs": [
      {
       "output_type": "stream",
       "stream": "stdout",
       "text": [
        "10000000 loops, best of 3: 22.2 ns per loop\n"
       ]
      }
     ],
     "prompt_number": 24
    },
    {
     "cell_type": "code",
     "collapsed": false,
     "input": [],
     "language": "python",
     "metadata": {},
     "outputs": [],
     "prompt_number": 19
    }
   ],
   "metadata": {}
  }
 ]
}