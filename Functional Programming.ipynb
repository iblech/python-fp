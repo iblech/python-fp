{
 "metadata": {
  "name": "",
  "signature": "sha256:e5d66f37f87777dccc50b4ff74dfbb536202685494fa9368b827eb107d782782"
 },
 "nbformat": 3,
 "nbformat_minor": 0,
 "worksheets": [
  {
   "cells": [
    {
     "cell_type": "code",
     "collapsed": false,
     "input": [
      "# Naive implementation ... with a for loop\n",
      "\n",
      "for i in range(1,21):\n",
      "    if not i % (5*3): print(\"fizzbuzz\")\n",
      "    elif not i % 5: print(\"fizz\")\n",
      "    elif not i % 3: print(\"buzz\")\n",
      "    else: print(i)"
     ],
     "language": "python",
     "metadata": {
      "slideshow": {
       "slide_type": "slide"
      }
     },
     "outputs": [
      {
       "output_type": "stream",
       "stream": "stdout",
       "text": [
        "1\n",
        "2\n",
        "buzz\n",
        "4\n",
        "fizz\n",
        "buzz\n",
        "7\n",
        "8\n",
        "buzz\n",
        "fizz\n",
        "11\n",
        "buzz\n",
        "13\n",
        "14\n",
        "fizzbuzz\n",
        "16\n",
        "17\n",
        "buzz\n",
        "19\n",
        "fizz\n"
       ]
      }
     ],
     "prompt_number": 7
    },
    {
     "cell_type": "markdown",
     "metadata": {
      "slideshow": {
       "slide_type": "slide"
      }
     },
     "source": [
      "# We also know how to create a simple lazy implementation of `range`"
     ]
    },
    {
     "cell_type": "code",
     "collapsed": false,
     "input": [
      "def range_(stop):\n",
      "    '''home brewed range replacement'''\n",
      "    n = 0\n",
      "    while stop > n:\n",
      "        yield n\n",
      "        n += 1\n",
      "        \n",
      "[i for i in range(5)], [i for i in range_(5)]"
     ],
     "language": "python",
     "metadata": {
      "slideshow": {
       "slide_type": "subslide"
      }
     },
     "outputs": [
      {
       "metadata": {},
       "output_type": "pyout",
       "prompt_number": 6,
       "text": [
        "([0, 1, 2, 3, 4], [0, 1, 2, 3, 4])"
       ]
      }
     ],
     "prompt_number": 6
    },
    {
     "cell_type": "markdown",
     "metadata": {
      "slideshow": {
       "slide_type": "slide"
      }
     },
     "source": [
      "# Higher Order functions, Closures\n",
      "\n",
      "We can create a primitie function that returns the products of the function called with some fixed parameters. "
     ]
    },
    {
     "cell_type": "code",
     "collapsed": false,
     "input": [
      "def fizzbuzzfilter(test,num, word):\n",
      "    if (type(test) != int) or (test%num):\n",
      "        return test\n",
      "    else:\n",
      "        return word\n",
      "        \n",
      "\n",
      "def fizzbuzzfilter3(test):\n",
      "    return fizzbuzzfilter(test, 3, \"fizz\")\n",
      "\n",
      "def fizzbuzzfilter5(test):\n",
      "    return fizzbuzzfilter(test, 5, \"buzz\")\n",
      "\n",
      "def fizzbuzzfilter15(test):\n",
      "    return fizzbuzzfilter(test, 15, \"fizzbuzz\")\n"
     ],
     "language": "python",
     "metadata": {
      "slideshow": {
       "slide_type": "subslide"
      }
     },
     "outputs": [],
     "prompt_number": 2
    },
    {
     "cell_type": "code",
     "collapsed": false,
     "input": [
      "fizzbuzzfilter3(3), fizzbuzzfilter3(5), fizzbuzzfilter3(None)"
     ],
     "language": "python",
     "metadata": {
      "slideshow": {
       "slide_type": "subslide"
      }
     },
     "outputs": [
      {
       "metadata": {},
       "output_type": "pyout",
       "prompt_number": 3,
       "text": [
        "('fizz', 5, None)"
       ]
      }
     ],
     "prompt_number": 3
    },
    {
     "cell_type": "code",
     "collapsed": false,
     "input": [
      "fizzbuzzfilter5(fizzbuzzfilter3(fizzbuzzfilter15(3)))"
     ],
     "language": "python",
     "metadata": {
      "slideshow": {
       "slide_type": "subslide"
      }
     },
     "outputs": [
      {
       "metadata": {},
       "output_type": "pyout",
       "prompt_number": 4,
       "text": [
        "'fizz'"
       ]
      }
     ],
     "prompt_number": 4
    },
    {
     "cell_type": "code",
     "collapsed": false,
     "input": [
      "list(map(fizzbuzzfilter3, map(fizzbuzzfilter15, range(1,21))))"
     ],
     "language": "python",
     "metadata": {
      "slideshow": {
       "slide_type": "subslide"
      }
     },
     "outputs": [
      {
       "metadata": {},
       "output_type": "pyout",
       "prompt_number": 5,
       "text": [
        "[1,\n",
        " 2,\n",
        " 'fizz',\n",
        " 4,\n",
        " 5,\n",
        " 'fizz',\n",
        " 7,\n",
        " 8,\n",
        " 'fizz',\n",
        " 10,\n",
        " 11,\n",
        " 'fizz',\n",
        " 13,\n",
        " 14,\n",
        " 'fizzbuzz',\n",
        " 16,\n",
        " 17,\n",
        " 'fizz',\n",
        " 19,\n",
        " 20]"
       ]
      }
     ],
     "prompt_number": 5
    },
    {
     "cell_type": "markdown",
     "metadata": {
      "slideshow": {
       "slide_type": "fragment"
      }
     },
     "source": [
      "# Multiple maps\n",
      "This approach works, but it does repeat in a way the DRY principle.\n",
      "It's not very readable. The STL offers a nice wrapper called partial, for creating exactly that."
     ]
    },
    {
     "cell_type": "code",
     "collapsed": false,
     "input": [
      "list(map(fizzbuzzfilter5, map(fizzbuzzfilter3, map(fizzbuzzfilter15, range(1,21)))))"
     ],
     "language": "python",
     "metadata": {},
     "outputs": [
      {
       "metadata": {},
       "output_type": "pyout",
       "prompt_number": 6,
       "text": [
        "[1,\n",
        " 2,\n",
        " 'fizz',\n",
        " 4,\n",
        " 'buzz',\n",
        " 'fizz',\n",
        " 7,\n",
        " 8,\n",
        " 'fizz',\n",
        " 'buzz',\n",
        " 11,\n",
        " 'fizz',\n",
        " 13,\n",
        " 14,\n",
        " 'fizzbuzz',\n",
        " 16,\n",
        " 17,\n",
        " 'fizz',\n",
        " 19,\n",
        " 'buzz']"
       ]
      }
     ],
     "prompt_number": 6
    },
    {
     "cell_type": "code",
     "collapsed": false,
     "input": [
      "from functools import partial\n",
      "filter3 = partial(fizzbuzzfilter, num=3, word='fizz')\n",
      "filter5 = partial(fizzbuzzfilter, num=5, word='buzz')\n",
      "filter15 = partial(fizzbuzzfilter, num=15, word='fizzbuzz')\n"
     ],
     "language": "python",
     "metadata": {},
     "outputs": [],
     "prompt_number": 7
    },
    {
     "cell_type": "markdown",
     "metadata": {},
     "source": [
      "# We can use multiple map calls over the range "
     ]
    },
    {
     "cell_type": "code",
     "collapsed": false,
     "input": [
      "print(list(map(filter5, map(filter3, map(filter15, range(1,21))))))"
     ],
     "language": "python",
     "metadata": {},
     "outputs": [
      {
       "output_type": "stream",
       "stream": "stdout",
       "text": [
        "[1, 2, 'fizz', 4, 'buzz', 'fizz', 7, 8, 'fizz', 'buzz', 11, 'fizz', 13, 14, 'fizzbuzz', 16, 17, 'fizz', 19, 'buzz']\n"
       ]
      }
     ],
     "prompt_number": 8
    },
    {
     "cell_type": "markdown",
     "metadata": {},
     "source": [
      "# OK, it works, and it's more conviniet to write, but it's still not very readable. "
     ]
    },
    {
     "cell_type": "code",
     "collapsed": false,
     "input": [
      "\n",
      "def map_many(iterable, function, *other):\n",
      "    \"\"\"map many functions to a single iterable\"\"\"\n",
      "    if other:\n",
      "        return map_many(map(function, iterable), *other)\n",
      "    return map(function, iterable)\n",
      "\n",
      "\n",
      "list(map_many(range(1,21), filter15, filter3, filter5))"
     ],
     "language": "python",
     "metadata": {},
     "outputs": [
      {
       "metadata": {},
       "output_type": "pyout",
       "prompt_number": 9,
       "text": [
        "[1,\n",
        " 2,\n",
        " 'fizz',\n",
        " 4,\n",
        " 'buzz',\n",
        " 'fizz',\n",
        " 7,\n",
        " 8,\n",
        " 'fizz',\n",
        " 'buzz',\n",
        " 11,\n",
        " 'fizz',\n",
        " 13,\n",
        " 14,\n",
        " 'fizzbuzz',\n",
        " 16,\n",
        " 17,\n",
        " 'fizz',\n",
        " 19,\n",
        " 'buzz']"
       ]
      }
     ],
     "prompt_number": 9
    },
    {
     "cell_type": "markdown",
     "metadata": {},
     "source": [
      "# A slightly better approach, using yield instead of returns. \n",
      "As a bonus, list are not traversed 3 times. "
     ]
    },
    {
     "cell_type": "code",
     "collapsed": false,
     "input": [
      "from functools import partial\n",
      "\n",
      "filter3 = partial(fizzbuzzfilter, num=3, word='fizz')\n",
      "filter5 = partial(fizzbuzzfilter, num=5, word='buzz')\n",
      "filter15 = partial(fizzbuzzfilter, num=15, word='fizzbuzz')\n",
      "\n",
      "def fizzbuzzfiltery(numbers, num, word):\n",
      "    for test in numbers:\n",
      "        if (type(test) == str) or (test%num):\n",
      "            yield test\n",
      "        else:\n",
      "            yield word\n",
      "            \n",
      "filter3y = partial(fizzbuzzfiltery, num=3, word='fizz')\n",
      "filter5y = partial(fizzbuzzfiltery, num=5, word='buzz')\n",
      "filter15y = partial(fizzbuzzfiltery, num=15, word='fizzbuzz')\n",
      "\n",
      "nums = range(1,21)\n",
      "\n",
      "# Using yields we only traverse the list 1 time\n",
      "        \n",
      "list(filter5y(filter3y(filter15y(nums))))\n",
      "#%time list(filter5y(filter3y(filter15y(nums))))\n"
     ],
     "language": "python",
     "metadata": {},
     "outputs": [
      {
       "metadata": {},
       "output_type": "pyout",
       "prompt_number": 10,
       "text": [
        "[1,\n",
        " 2,\n",
        " 'fizz',\n",
        " 4,\n",
        " 'buzz',\n",
        " 'fizz',\n",
        " 7,\n",
        " 8,\n",
        " 'fizz',\n",
        " 'buzz',\n",
        " 11,\n",
        " 'fizz',\n",
        " 13,\n",
        " 14,\n",
        " 'fizzbuzz',\n",
        " 16,\n",
        " 17,\n",
        " 'fizz',\n",
        " 19,\n",
        " 'buzz']"
       ]
      }
     ],
     "prompt_number": 10
    },
    {
     "cell_type": "code",
     "collapsed": false,
     "input": [
      "# using lambdas only:\n",
      "fizzbuzz = lambda x: \"fizzbuzz\" if isinstance(x, int) and not x%15 and not isinstance(x, str) else x\n",
      "fizz = lambda x: \"fizz\" if isinstance(x, int) and not x % 3 and not isinstance(x, str) else x\n",
      "buzz = lambda x: \"buzz\" if isinstance(x, int) and not x % 5 and not isinstance(x, str) else x\n",
      "list(map(buzz, map(fizz, (map(fizzbuzz, range(1,21))))))"
     ],
     "language": "python",
     "metadata": {},
     "outputs": [
      {
       "metadata": {},
       "output_type": "pyout",
       "prompt_number": 11,
       "text": [
        "[1,\n",
        " 2,\n",
        " 'fizz',\n",
        " 4,\n",
        " 'buzz',\n",
        " 'fizz',\n",
        " 7,\n",
        " 8,\n",
        " 'fizz',\n",
        " 'buzz',\n",
        " 11,\n",
        " 'fizz',\n",
        " 13,\n",
        " 14,\n",
        " 'fizzbuzz',\n",
        " 16,\n",
        " 17,\n",
        " 'fizz',\n",
        " 19,\n",
        " 'buzz']"
       ]
      }
     ],
     "prompt_number": 11
    },
    {
     "cell_type": "markdown",
     "metadata": {},
     "source": [
      "# Applying multiple functions to a single list, currying ...\n",
      "\n",
      "Applying multiple lamdba functions which return a value. \n",
      "Traversing the list of arguments N times, where N is the number of functions."
     ]
    },
    {
     "cell_type": "code",
     "collapsed": false,
     "input": [
      "def mapf(f_list, argument):\n",
      "    \"\"\"map multiple functions to a single argument without recursion\"\"\" \n",
      "    r = argument\n",
      "    for f in f_list:\n",
      "        r = map(f, r)\n",
      "    return r\n",
      "\n",
      "list(mapf([fizzbuzz, fizz, buzz], nums))"
     ],
     "language": "python",
     "metadata": {},
     "outputs": [
      {
       "metadata": {},
       "output_type": "pyout",
       "prompt_number": 12,
       "text": [
        "[1,\n",
        " 2,\n",
        " 'fizz',\n",
        " 4,\n",
        " 'buzz',\n",
        " 'fizz',\n",
        " 7,\n",
        " 8,\n",
        " 'fizz',\n",
        " 'buzz',\n",
        " 11,\n",
        " 'fizz',\n",
        " 13,\n",
        " 14,\n",
        " 'fizzbuzz',\n",
        " 16,\n",
        " 17,\n",
        " 'fizz',\n",
        " 19,\n",
        " 'buzz']"
       ]
      }
     ],
     "prompt_number": 12
    },
    {
     "cell_type": "code",
     "collapsed": false,
     "input": [
      "def fizzbuzzfiltery(test, num, word):\n",
      "    if (type(test) != int) or (test%num):\n",
      "        yield test\n",
      "    else:\n",
      "        yield word\n",
      "\n",
      "filter3y = partial(fizzbuzzfiltery, num=3, word='fizz')\n",
      "filter5y = partial(fizzbuzzfiltery, num=5, word='buzz')\n",
      "filter15y = partial(fizzbuzzfiltery, num=15, word='fizzbuzz')\n",
      "\n",
      "filter5y(4), next(filter5y(5))"
     ],
     "language": "python",
     "metadata": {},
     "outputs": [
      {
       "metadata": {},
       "output_type": "pyout",
       "prompt_number": 13,
       "text": [
        "(<generator object fizzbuzzfiltery at 0x7f666807d3a8>, 'buzz')"
       ]
      }
     ],
     "prompt_number": 13
    },
    {
     "cell_type": "code",
     "collapsed": false,
     "input": [
      "from functools import reduce\n",
      "def pipeline_each(data, fns):\n",
      "    return reduce(lambda a, x: map(x, a),\n",
      "                  fns,\n",
      "                  data)\n",
      "\n",
      "from itertools import chain\n",
      "\n",
      "%timeit -n 100 list(pipeline_each(range(1,21), [fizzbuzz, fizz, buzz]))\n"
     ],
     "language": "python",
     "metadata": {},
     "outputs": [
      {
       "output_type": "stream",
       "stream": "stdout",
       "text": [
        "100 loops, best of 3: 30.7 \u00b5s per loop\n"
       ]
      }
     ],
     "prompt_number": 38
    },
    {
     "cell_type": "markdown",
     "metadata": {},
     "source": [
      "# Using yields we only traverse the list again __only__ once. Because we have created lazy functions"
     ]
    },
    {
     "cell_type": "code",
     "collapsed": false,
     "input": [
      "from itertools import chain\n",
      "def mapf(f_list, argument):\n",
      "    \"\"\"apply a list of functions to a single argument, without recursion\"\"\"\n",
      "    r = argument\n",
      "    for f in f_list:\n",
      "        #  r = chain(*(map(f, r)))  # same as below, but with uglier syntax\n",
      "        r = chain.from_iterable(map(f, r))\n",
      "        \n",
      "    return r\n",
      "nums = range(1,21)\n",
      "list(mapf([filter15y, filter3y, filter5y], nums))"
     ],
     "language": "python",
     "metadata": {},
     "outputs": [
      {
       "metadata": {},
       "output_type": "pyout",
       "prompt_number": 14,
       "text": [
        "[1,\n",
        " 2,\n",
        " 'fizz',\n",
        " 4,\n",
        " 'buzz',\n",
        " 'fizz',\n",
        " 7,\n",
        " 8,\n",
        " 'fizz',\n",
        " 'buzz',\n",
        " 11,\n",
        " 'fizz',\n",
        " 13,\n",
        " 14,\n",
        " 'fizzbuzz',\n",
        " 16,\n",
        " 17,\n",
        " 'fizz',\n",
        " 19,\n",
        " 'buzz']"
       ]
      }
     ],
     "prompt_number": 14
    },
    {
     "cell_type": "code",
     "collapsed": false,
     "input": [
      "nums = range(1, 2*10**2+1)\n"
     ],
     "language": "python",
     "metadata": {},
     "outputs": [],
     "prompt_number": 17
    },
    {
     "cell_type": "code",
     "collapsed": false,
     "input": [
      "def lazy():\n",
      "    \"\"\"no recursion, with yield\"\"\"\n",
      "    return list(mapf([filter15y, filter3y, filter5y], nums))\n",
      "\n",
      "%timeit -n 100 lazy()\n"
     ],
     "language": "python",
     "metadata": {},
     "outputs": [
      {
       "output_type": "stream",
       "stream": "stdout",
       "text": [
        "100 loops, best of 3: 352 \u00b5s per loop\n"
       ]
      }
     ],
     "prompt_number": 18
    },
    {
     "cell_type": "code",
     "collapsed": false,
     "input": [
      "%timeit -n 100 list(filter5y(filter3y(filter15y(nums))))"
     ],
     "language": "python",
     "metadata": {},
     "outputs": [
      {
       "output_type": "stream",
       "stream": "stdout",
       "text": [
        "100 loops, best of 3: 1.66 \u00b5s per loop\n"
       ]
      }
     ],
     "prompt_number": 19
    },
    {
     "cell_type": "code",
     "collapsed": false,
     "input": [
      "fizzbuzz = lambda x: \"fizzbuzz\" if isinstance(x, int) and not x%15 and not isinstance(x, str) else x\n",
      "fizz = lambda x: \"fizz\" if isinstance(x, int) and not x % 3 and not isinstance(x, str) else x\n",
      "buzz = lambda x: \"buzz\" if isinstance(x, int) and not x % 5 and not isinstance(x, str) else x\n",
      "\n",
      "from itertools import chain\n",
      "def mapf(f_list, argument):\n",
      "    \"\"\"apply a list of functions to a single argument, without recursion\"\"\"\n",
      "    r = argument\n",
      "    for f in f_list:\n",
      "        #  r = chain(*(map(f, r)))  # same as below, but with uglier syntax\n",
      "        #r = chain.from_iterable(map(f, r))\n",
      "        r = map(f,r)\n",
      "        \n",
      "    return r\n",
      "nums = range(1,21)\n",
      "\n",
      "\n",
      "def lumberjack():\n",
      "    \"\"\"calling mapf, no recursion, with lambdas\"\"\"\n",
      "    return list(mapf([fizzbuzz, fizz, buzz], nums))\n",
      "\n",
      "%timeit -n 100 lumberjack()\n"
     ],
     "language": "python",
     "metadata": {},
     "outputs": [
      {
       "output_type": "stream",
       "stream": "stdout",
       "text": [
        "100 loops, best of 3: 15.8 \u00b5s per loop\n"
       ]
      }
     ],
     "prompt_number": 23
    },
    {
     "cell_type": "code",
     "collapsed": false,
     "input": [
      "def no_y():\n",
      "    \"\"\"no yield, recursion\"\"\"\n",
      "    return list(map_many(nums, filter15, filter3, filter5))\n",
      "\n",
      "%timeit -n 100 no_y()\n"
     ],
     "language": "python",
     "metadata": {},
     "outputs": [
      {
       "output_type": "stream",
       "stream": "stdout",
       "text": [
        "100 loops, best of 3: 358 \u00b5s per loop\n"
       ]
      }
     ],
     "prompt_number": 21
    },
    {
     "cell_type": "code",
     "collapsed": false,
     "input": [
      "def procedural_fizzbuzz():\n",
      "    result = []\n",
      "    for i in range(1,21):\n",
      "        if not i % (5*3): result.extend([\"fizzbuzz\"])\n",
      "        elif not i % 5: result.extend([\"fizz\"])\n",
      "        elif not i % 3: result.extend([\"buzz\"])\n",
      "        else: result.extend([i])\n",
      "        \n",
      "%timeit -n 100 procedural_fizzbuzz()"
     ],
     "language": "python",
     "metadata": {},
     "outputs": [
      {
       "output_type": "stream",
       "stream": "stdout",
       "text": [
        "100 loops, best of 3: 6.09 \u00b5s per loop\n"
       ]
      }
     ],
     "prompt_number": 25
    },
    {
     "cell_type": "markdown",
     "metadata": {},
     "source": [
      "Closures\n",
      "\n",
      "[One very interesting concept in FP is a closure. In fact, closures are sufficiently interesting to many developers that \n",
      "even generally non-functional languages like Perl and Ruby include closures as a feature. Moreover, Python 2.1 currently \n",
      "appears destined to add lexical scoping, which will provide most of the capabilities of closures.]\n",
      "(http://www.ibm.com/developerworks/linux/library/l-prog2/index.html)\n",
      "\n",
      ">>> N = 10\n",
      ">>> def addN(i, n=N):\n",
      "...     return i+n\n",
      "...\n",
      ">>> addN(5)   # Add 10\n",
      "15\n",
      ">>> N = 20\n",
      ">>> addN(6)   # Add 10 (current N doesn't matter)\n",
      "16\n",
      "\n",
      "Our frozen variable is essentially a closure. Some data is \"attached\" to the addN() function. \n",
      "For a complete closure, all the data present when addN() was defined would be available at invocation. \n",
      "However, in this example (and many more robust ones), \n",
      "it is simple to make enough available with default arguments. Variables that are never used by addN() thereby make no difference to its calculation. \n"
     ]
    },
    {
     "cell_type": "code",
     "collapsed": false,
     "input": [
      ">>> colors = ['red', 'yellow', 'blue']\n",
      ">>> clothes = ['hat', 'shirt', 'pants']\n",
      "\n",
      ">>> colored_clothes = ['{0} {1}'.format(color, garment) for color in colors for garment in clothes]\n",
      "\n",
      ">>> colored_clothes\n",
      "['red hat', 'red shirt', 'red pants', 'yellow hat', 'yellow shirt', 'yellow pants', 'blue hat', 'blue shirt', 'blue pants']"
     ],
     "language": "python",
     "metadata": {},
     "outputs": []
    },
    {
     "cell_type": "code",
     "collapsed": false,
     "input": [
      " [ (a[i], b[i]) for i in range(len(b))]\n",
      " [(1, 1), (2, 2), (3, 3), (4, 4)]\n"
     ],
     "language": "python",
     "metadata": {},
     "outputs": []
    },
    {
     "cell_type": "code",
     "collapsed": false,
     "input": [
      "\n",
      "    \n",
      "When to Use List Comprehension\n",
      "\n",
      "We typically should use simple for loops when getting started with Python, and map. Use comprehension where they are easy to apply.\n",
      "However, there is a substantial performance advantage to use list comprehension. The map calls are roughly twice as \n",
      "fast as equivalent for loops. \n",
      "List comprehensions are usually slightly faster than map calls. This speed difference is largely due to the fact that map and list \n",
      "comprehensions run at C language speed inside the interpreter. It is much faster that stepping through Python for loop code\n",
      "within the Python Virtual Machine (PVM).\n",
      "\n",
      "However, for loops make logic more explicit, we may want to use them on the grounds of simplicity. On the other hand,\n",
      "map and list comprehensions are worth knowing and using for simpler kinds of iterations if the speed of application is an important factor. "
     ],
     "language": "python",
     "metadata": {},
     "outputs": []
    },
    {
     "cell_type": "code",
     "collapsed": false,
     "input": [
      "def generic_filter(obj, klass, func, exception):\n",
      "    \n",
      "    if isinstance(obj, klass):\n",
      "        return func(obj)\n",
      "    else:\n",
      "        raise exception"
     ],
     "language": "python",
     "metadata": {},
     "outputs": [],
     "prompt_number": 40
    },
    {
     "cell_type": "code",
     "collapsed": false,
     "input": [
      "safe_add_3 = partial(generic_filter, klass = int, func=lambda x: x+3, exception=ValueError(\"You didn't give an int\"))\n"
     ],
     "language": "python",
     "metadata": {},
     "outputs": [],
     "prompt_number": 43
    },
    {
     "cell_type": "code",
     "collapsed": false,
     "input": [
      "safe_add_3(5), safe_add_3(\"three\")"
     ],
     "language": "python",
     "metadata": {},
     "outputs": [
      {
       "ename": "ValueError",
       "evalue": "You didn't give an int",
       "output_type": "pyerr",
       "traceback": [
        "\u001b[0;31m---------------------------------------------------------------------------\u001b[0m\n\u001b[0;31mValueError\u001b[0m                                Traceback (most recent call last)",
        "\u001b[0;32m<ipython-input-44-00b7dc7ecc09>\u001b[0m in \u001b[0;36m<module>\u001b[0;34m()\u001b[0m\n\u001b[0;32m----> 1\u001b[0;31m \u001b[0msafe_add_3\u001b[0m\u001b[0;34m(\u001b[0m\u001b[0;36m5\u001b[0m\u001b[0;34m)\u001b[0m\u001b[0;34m,\u001b[0m \u001b[0msafe_add_3\u001b[0m\u001b[0;34m(\u001b[0m\u001b[0;34m\"three\"\u001b[0m\u001b[0;34m)\u001b[0m\u001b[0;34m\u001b[0m\u001b[0m\n\u001b[0m",
        "\u001b[0;32m<ipython-input-40-f6008f40e3ce>\u001b[0m in \u001b[0;36mgeneric_filter\u001b[0;34m(obj, klass, func, exception)\u001b[0m\n\u001b[1;32m      4\u001b[0m         \u001b[0;32mreturn\u001b[0m \u001b[0mfunc\u001b[0m\u001b[0;34m(\u001b[0m\u001b[0mobj\u001b[0m\u001b[0;34m)\u001b[0m\u001b[0;34m\u001b[0m\u001b[0m\n\u001b[1;32m      5\u001b[0m     \u001b[0;32melse\u001b[0m\u001b[0;34m:\u001b[0m\u001b[0;34m\u001b[0m\u001b[0m\n\u001b[0;32m----> 6\u001b[0;31m         \u001b[0;32mraise\u001b[0m \u001b[0mexception\u001b[0m\u001b[0;34m\u001b[0m\u001b[0m\n\u001b[0m",
        "\u001b[0;31mValueError\u001b[0m: You didn't give an int"
       ]
      }
     ],
     "prompt_number": 44
    },
    {
     "cell_type": "code",
     "collapsed": false,
     "input": [
      "safe_replace_str = partial(generic_filter, klass=str, func=lambda obj: obj.replace(\"Foo\", \"bar\") , exception=ValueError(\"You didn't give a str\"))\n",
      "safe_replace_str(\"Foobaz\"), safe_replace_str({}) "
     ],
     "language": "python",
     "metadata": {},
     "outputs": [
      {
       "ename": "ValueError",
       "evalue": "You didn't give a str",
       "output_type": "pyerr",
       "traceback": [
        "\u001b[0;31m---------------------------------------------------------------------------\u001b[0m\n\u001b[0;31mValueError\u001b[0m                                Traceback (most recent call last)",
        "\u001b[0;32m<ipython-input-46-29ab06334011>\u001b[0m in \u001b[0;36m<module>\u001b[0;34m()\u001b[0m\n\u001b[1;32m      1\u001b[0m \u001b[0msafe_replace_str\u001b[0m \u001b[0;34m=\u001b[0m \u001b[0mpartial\u001b[0m\u001b[0;34m(\u001b[0m\u001b[0mgeneric_filter\u001b[0m\u001b[0;34m,\u001b[0m \u001b[0mklass\u001b[0m\u001b[0;34m=\u001b[0m\u001b[0mstr\u001b[0m\u001b[0;34m,\u001b[0m \u001b[0mfunc\u001b[0m\u001b[0;34m=\u001b[0m\u001b[0;32mlambda\u001b[0m \u001b[0mobj\u001b[0m\u001b[0;34m:\u001b[0m \u001b[0mobj\u001b[0m\u001b[0;34m.\u001b[0m\u001b[0mreplace\u001b[0m\u001b[0;34m(\u001b[0m\u001b[0;34m\"Foo\"\u001b[0m\u001b[0;34m,\u001b[0m \u001b[0;34m\"bar\"\u001b[0m\u001b[0;34m)\u001b[0m \u001b[0;34m,\u001b[0m \u001b[0mexception\u001b[0m\u001b[0;34m=\u001b[0m\u001b[0mValueError\u001b[0m\u001b[0;34m(\u001b[0m\u001b[0;34m\"You didn't give a str\"\u001b[0m\u001b[0;34m)\u001b[0m\u001b[0;34m)\u001b[0m\u001b[0;34m\u001b[0m\u001b[0m\n\u001b[0;32m----> 2\u001b[0;31m \u001b[0msafe_replace_str\u001b[0m\u001b[0;34m(\u001b[0m\u001b[0;34m\"Foobaz\"\u001b[0m\u001b[0;34m)\u001b[0m\u001b[0;34m,\u001b[0m \u001b[0msafe_replace_str\u001b[0m\u001b[0;34m(\u001b[0m\u001b[0;34m{\u001b[0m\u001b[0;34m}\u001b[0m\u001b[0;34m)\u001b[0m\u001b[0;34m\u001b[0m\u001b[0m\n\u001b[0m",
        "\u001b[0;32m<ipython-input-40-f6008f40e3ce>\u001b[0m in \u001b[0;36mgeneric_filter\u001b[0;34m(obj, klass, func, exception)\u001b[0m\n\u001b[1;32m      4\u001b[0m         \u001b[0;32mreturn\u001b[0m \u001b[0mfunc\u001b[0m\u001b[0;34m(\u001b[0m\u001b[0mobj\u001b[0m\u001b[0;34m)\u001b[0m\u001b[0;34m\u001b[0m\u001b[0m\n\u001b[1;32m      5\u001b[0m     \u001b[0;32melse\u001b[0m\u001b[0;34m:\u001b[0m\u001b[0;34m\u001b[0m\u001b[0m\n\u001b[0;32m----> 6\u001b[0;31m         \u001b[0;32mraise\u001b[0m \u001b[0mexception\u001b[0m\u001b[0;34m\u001b[0m\u001b[0m\n\u001b[0m",
        "\u001b[0;31mValueError\u001b[0m: You didn't give a str"
       ]
      }
     ],
     "prompt_number": 46
    },
    {
     "cell_type": "code",
     "collapsed": false,
     "input": [],
     "language": "python",
     "metadata": {},
     "outputs": []
    }
   ],
   "metadata": {}
  }
 ]
}